{
 "cells": [
  {
   "cell_type": "code",
   "execution_count": 1,
   "id": "afef7e78",
   "metadata": {},
   "outputs": [],
   "source": [
    "# Import dependencies\n",
    "from bs4 import BeautifulSoup as bs\n",
    "from splinter import Browser\n",
    "from webdriver_manager.chrome import ChromeDriverManager\n",
    "import requests\n",
    "import pymongo\n",
    "import pandas as pd\n",
    "import matplotlib.pyplot as plt\n",
    "import os"
   ]
  },
  {
   "cell_type": "code",
   "execution_count": 2,
   "id": "0e9c7db9",
   "metadata": {},
   "outputs": [],
   "source": [
    "# Setup Splinter\n",
    "executable_path = {\"executable_path\": ChromeDriverManager().install()}\n",
    "browser = Browser(\"chrome\", **executable_path, headless = False)\n",
    "\n",
    "# URL of page to be scraped\n",
    "url = \"https://redplanetscience.com/\"\n",
    "browser.visit(url)"
   ]
  },
  {
   "cell_type": "code",
   "execution_count": 3,
   "id": "f01d6814",
   "metadata": {},
   "outputs": [
    {
     "data": {
      "text/plain": [
       "True"
      ]
     },
     "execution_count": 3,
     "metadata": {},
     "output_type": "execute_result"
    }
   ],
   "source": [
    "# Confirm the HTML element to isolate the title and preview is present within the browser.\n",
    "browser.is_element_present_by_css(\"div.list_text\", 1)"
   ]
  },
  {
   "cell_type": "code",
   "execution_count": 4,
   "id": "5c067d59",
   "metadata": {},
   "outputs": [],
   "source": [
    "# Create variables for browser.html to use as a Beautiful Soup object and parse out the webpage\n",
    "mars = browser.html\n",
    "mars_soup = bs(mars, \"html.parser\")"
   ]
  },
  {
   "cell_type": "code",
   "execution_count": 5,
   "id": "7a4af527",
   "metadata": {},
   "outputs": [],
   "source": [
    "# Use the soup object to find the results for the HTML element\n",
    "mars_results = mars_soup.find_all(\"div\", class_=\"list_text\")"
   ]
  },
  {
   "cell_type": "code",
   "execution_count": 6,
   "id": "9e2d17a6",
   "metadata": {},
   "outputs": [],
   "source": [
    "# Create an empty list to append the individual dictionaries to.\n",
    "mars_dict_list = []"
   ]
  },
  {
   "cell_type": "code",
   "execution_count": 7,
   "id": "eece5649",
   "metadata": {},
   "outputs": [
    {
     "name": "stdout",
     "output_type": "stream",
     "text": [
      "Article Title: NASA's Mars 2020 Rover Completes Its First Drive\n",
      "Summary: In a 10-plus-hour marathon, the rover steered, turned and drove in 3-foot (1-meter) increments over small ramps.\n",
      "----------------------------------------\n",
      "Article Title: NASA's InSight Flexes Its Arm While Its 'Mole' Hits Pause\n",
      "Summary: Now that the lander's robotic arm has helped the mole get underground, it will resume science activities that have been on hold.\n",
      "----------------------------------------\n",
      "Article Title: How NASA's Perseverance Mars Team Adjusted to Work in the Time of Coronavirus \n",
      "Summary: Like much of the rest of the world, the Mars rover team is pushing forward with its mission-critical work while putting the health and safety of their colleagues and community first.\n",
      "----------------------------------------\n",
      "Article Title: NASA's Mars Rover Drivers Need Your Help\n",
      "Summary: Using an online tool to label Martian terrain types, you can train an artificial intelligence algorithm that could improve the way engineers guide the Curiosity rover.\n",
      "----------------------------------------\n",
      "Article Title: NASA's Mars 2020 Rover Tests Descent-Stage Separation\n",
      "Summary: A crane lifts the rocket-powered descent stage away from NASA's Mars 2020 rover after technicians tested the pyrotechnic charges that separate the two spacecraft.\n",
      "----------------------------------------\n",
      "Article Title: NASA's Perseverance Rover Goes Through Trials by Fire, Ice, Light and Sound\n",
      "Summary: The agency's new Mars rover is put through a series of tests in vacuum chambers, acoustic chambers and more to get ready for the Red Planet.\n",
      "----------------------------------------\n",
      "Article Title: NASA's Perseverance Mars Rover Gets Balanced\n",
      "Summary: The mission team performed a crucial weight-balancing test on the rover in preparation for this summer's history-making launch to the Red Planet.\n",
      "----------------------------------------\n",
      "Article Title: NASA's Briefcase-Size MarCO Satellite Picks Up Honors\n",
      "Summary: The twin spacecraft, the first of their kind to fly into deep space, earn a Laureate from Aviation Week & Space Technology.\n",
      "----------------------------------------\n",
      "Article Title: Robotic Toolkit Added to NASA's Mars 2020 Rover\n",
      "Summary: The bit carousel, which lies at the heart of the rover's Sample Caching System, is now aboard NASA's newest rover. \n",
      "----------------------------------------\n",
      "Article Title: With Mars Methane Mystery Unsolved, Curiosity Serves Scientists a New One: Oxygen\n",
      "Summary: For the first time in the history of space exploration, scientists have measured the seasonal changes in the gases that fill the air directly above the surface of Gale Crater on Mars. \n",
      "----------------------------------------\n",
      "Article Title: New Selfie Shows Curiosity, the Mars Chemist\n",
      "Summary: The NASA rover performed a special chemistry experiment at the location captured in its newest self-portrait.\n",
      "----------------------------------------\n",
      "Article Title: NASA Perseverance Mars Rover Scientists Train in the Nevada Desert\n",
      "Summary: Team members searched for signs of ancient microscopic life there, just as NASA's latest rover will on the Red Planet next year.\n",
      "----------------------------------------\n",
      "Article Title: 7 Things to Know About the Mars 2020 Perseverance Rover Mission\n",
      "Summary: NASA's next rover to the Red Planet is slated to launch no earlier than July 30. These highlights will get you up to speed on the ambitious mission.\n",
      "----------------------------------------\n",
      "Article Title: Air Deliveries Bring NASA's Perseverance Mars Rover Closer to Launch\n",
      "Summary: A NASA Wallops Flight Facility cargo plane transported more than two tons of equipment — including the rover's sample collection tubes — to Florida for this summer's liftoff.\n",
      "----------------------------------------\n",
      "Article Title: NASA Mars Mission Connects With Bosnian and Herzegovinian Town\n",
      "Summary: A letter from NASA was presented to the mayor of Jezero, Bosnia-Herzegovina, honoring the connection between the town and Jezero Crater, the Mars 2020 rover landing site.\n",
      "----------------------------------------\n"
     ]
    }
   ],
   "source": [
    "# Loop through the mars_results and find the title and preview, convert to text, create a dictionary for the\n",
    "# result and append the dictionary to the empty list.\n",
    "for result in mars_results:\n",
    "    title = result.find(\"div\", class_=\"content_title\").text\n",
    "    preview = result.find(\"div\", class_=\"article_teaser_body\").text\n",
    "    mars_dict = {\"title\": title, \"preview\": preview}\n",
    "    mars_dict_list.append(mars_dict)\n",
    "    print(f'''Article Title: {title}\n",
    "Summary: {preview}\n",
    "----------------------------------------''')"
   ]
  },
  {
   "cell_type": "code",
   "execution_count": 8,
   "id": "64b16862",
   "metadata": {},
   "outputs": [],
   "source": [
    "# URL of image page to be scraped\n",
    "url_2 = \"https://spaceimages-mars.com/\"\n",
    "browser.visit(url_2)"
   ]
  },
  {
   "cell_type": "code",
   "execution_count": 9,
   "id": "d41c3c4d",
   "metadata": {},
   "outputs": [
    {
     "data": {
      "text/plain": [
       "True"
      ]
     },
     "execution_count": 9,
     "metadata": {},
     "output_type": "execute_result"
    }
   ],
   "source": [
    "# Confirm the HTML element to isolate the image source is present within the browser.\n",
    "browser.is_element_present_by_css(\"img.headerimage\", 1)"
   ]
  },
  {
   "cell_type": "code",
   "execution_count": 10,
   "id": "adbe478e",
   "metadata": {},
   "outputs": [],
   "source": [
    "# Create variables for browser.html to use as a Beautiful Soup object and parse out the webpage\n",
    "mars_img = browser.html\n",
    "mars_img_soup = bs(mars_img, \"html.parser\")"
   ]
  },
  {
   "cell_type": "code",
   "execution_count": 11,
   "id": "5dc66b0b",
   "metadata": {},
   "outputs": [
    {
     "data": {
      "text/plain": [
       "'image/featured/mars3.jpg'"
      ]
     },
     "execution_count": 11,
     "metadata": {},
     "output_type": "execute_result"
    }
   ],
   "source": [
    "# Use the soup object to find the results for the HTML element\n",
    "mars_img_results = mars_img_soup.find(\"img\", class_=\"headerimage\")\n",
    "\n",
    "# Create a variable for the image source and from the results isolate the specific attribute\n",
    "img_source = mars_img_results[\"src\"]\n",
    "img_source"
   ]
  },
  {
   "cell_type": "code",
   "execution_count": 12,
   "id": "d5c706e8",
   "metadata": {},
   "outputs": [
    {
     "data": {
      "text/plain": [
       "'https://spaceimages-mars.com/image/featured/mars3.jpg'"
      ]
     },
     "execution_count": 12,
     "metadata": {},
     "output_type": "execute_result"
    }
   ],
   "source": [
    "# Using the url for the spaceimages-mars.com, combine it with the source to create a complete URL for the image\n",
    "featured_image_url = url_2 + img_source\n",
    "featured_image_url"
   ]
  },
  {
   "cell_type": "code",
   "execution_count": 13,
   "id": "c0f3a89d",
   "metadata": {},
   "outputs": [],
   "source": [
    "# URL of Mars facts to be scraped\n",
    "url_3 = \"https://galaxyfacts-mars.com/\"\n",
    "browser.visit(url_3)"
   ]
  },
  {
   "cell_type": "code",
   "execution_count": 14,
   "id": "42497a3f",
   "metadata": {},
   "outputs": [
    {
     "data": {
      "text/plain": [
       "[                         0                1                2\n",
       " 0  Mars - Earth Comparison             Mars            Earth\n",
       " 1                Diameter:         6,779 km        12,742 km\n",
       " 2                    Mass:  6.39 × 10^23 kg  5.97 × 10^24 kg\n",
       " 3                   Moons:                2                1\n",
       " 4       Distance from Sun:   227,943,824 km   149,598,262 km\n",
       " 5          Length of Year:   687 Earth days      365.24 days\n",
       " 6             Temperature:     -87 to -5 °C      -88 to 58°C,\n",
       "                       0                              1\n",
       " 0  Equatorial Diameter:                       6,792 km\n",
       " 1       Polar Diameter:                       6,752 km\n",
       " 2                 Mass:  6.39 × 10^23 kg (0.11 Earths)\n",
       " 3                Moons:          2 ( Phobos & Deimos )\n",
       " 4       Orbit Distance:       227,943,824 km (1.38 AU)\n",
       " 5         Orbit Period:           687 days (1.9 years)\n",
       " 6  Surface Temperature:                   -87 to -5 °C\n",
       " 7         First Record:              2nd millennium BC\n",
       " 8          Recorded By:           Egyptian astronomers]"
      ]
     },
     "execution_count": 14,
     "metadata": {},
     "output_type": "execute_result"
    }
   ],
   "source": [
    "# Using Pandas, read URL to obtain the info on the tables\n",
    "tables = pd.read_html(url_3)\n",
    "tables"
   ]
  },
  {
   "cell_type": "code",
   "execution_count": 15,
   "id": "36eba9fb",
   "metadata": {},
   "outputs": [
    {
     "data": {
      "text/html": [
       "<div>\n",
       "<style scoped>\n",
       "    .dataframe tbody tr th:only-of-type {\n",
       "        vertical-align: middle;\n",
       "    }\n",
       "\n",
       "    .dataframe tbody tr th {\n",
       "        vertical-align: top;\n",
       "    }\n",
       "\n",
       "    .dataframe thead th {\n",
       "        text-align: right;\n",
       "    }\n",
       "</style>\n",
       "<table border=\"1\" class=\"dataframe\">\n",
       "  <thead>\n",
       "    <tr style=\"text-align: right;\">\n",
       "      <th></th>\n",
       "      <th>0</th>\n",
       "      <th>1</th>\n",
       "    </tr>\n",
       "  </thead>\n",
       "  <tbody>\n",
       "    <tr>\n",
       "      <th>0</th>\n",
       "      <td>Equatorial Diameter:</td>\n",
       "      <td>6,792 km</td>\n",
       "    </tr>\n",
       "    <tr>\n",
       "      <th>1</th>\n",
       "      <td>Polar Diameter:</td>\n",
       "      <td>6,752 km</td>\n",
       "    </tr>\n",
       "    <tr>\n",
       "      <th>2</th>\n",
       "      <td>Mass:</td>\n",
       "      <td>6.39 × 10^23 kg (0.11 Earths)</td>\n",
       "    </tr>\n",
       "    <tr>\n",
       "      <th>3</th>\n",
       "      <td>Moons:</td>\n",
       "      <td>2 ( Phobos &amp; Deimos )</td>\n",
       "    </tr>\n",
       "    <tr>\n",
       "      <th>4</th>\n",
       "      <td>Orbit Distance:</td>\n",
       "      <td>227,943,824 km (1.38 AU)</td>\n",
       "    </tr>\n",
       "    <tr>\n",
       "      <th>5</th>\n",
       "      <td>Orbit Period:</td>\n",
       "      <td>687 days (1.9 years)</td>\n",
       "    </tr>\n",
       "    <tr>\n",
       "      <th>6</th>\n",
       "      <td>Surface Temperature:</td>\n",
       "      <td>-87 to -5 °C</td>\n",
       "    </tr>\n",
       "    <tr>\n",
       "      <th>7</th>\n",
       "      <td>First Record:</td>\n",
       "      <td>2nd millennium BC</td>\n",
       "    </tr>\n",
       "    <tr>\n",
       "      <th>8</th>\n",
       "      <td>Recorded By:</td>\n",
       "      <td>Egyptian astronomers</td>\n",
       "    </tr>\n",
       "  </tbody>\n",
       "</table>\n",
       "</div>"
      ],
      "text/plain": [
       "                      0                              1\n",
       "0  Equatorial Diameter:                       6,792 km\n",
       "1       Polar Diameter:                       6,752 km\n",
       "2                 Mass:  6.39 × 10^23 kg (0.11 Earths)\n",
       "3                Moons:          2 ( Phobos & Deimos )\n",
       "4       Orbit Distance:       227,943,824 km (1.38 AU)\n",
       "5         Orbit Period:           687 days (1.9 years)\n",
       "6  Surface Temperature:                   -87 to -5 °C\n",
       "7         First Record:              2nd millennium BC\n",
       "8          Recorded By:           Egyptian astronomers"
      ]
     },
     "execution_count": 15,
     "metadata": {},
     "output_type": "execute_result"
    }
   ],
   "source": [
    "# Isolate the table with info specific to Mars\n",
    "mars_profile_df = tables[1]\n",
    "mars_profile_df"
   ]
  },
  {
   "cell_type": "code",
   "execution_count": 16,
   "id": "f04114e0",
   "metadata": {},
   "outputs": [
    {
     "data": {
      "text/plain": [
       "'<table border=\"1\" class=\"dataframe\">\\n  <thead>\\n    <tr style=\"text-align: right;\">\\n      <th></th>\\n      <th>0</th>\\n      <th>1</th>\\n    </tr>\\n  </thead>\\n  <tbody>\\n    <tr>\\n      <th>0</th>\\n      <td>Equatorial Diameter:</td>\\n      <td>6,792 km</td>\\n    </tr>\\n    <tr>\\n      <th>1</th>\\n      <td>Polar Diameter:</td>\\n      <td>6,752 km</td>\\n    </tr>\\n    <tr>\\n      <th>2</th>\\n      <td>Mass:</td>\\n      <td>6.39 × 10^23 kg (0.11 Earths)</td>\\n    </tr>\\n    <tr>\\n      <th>3</th>\\n      <td>Moons:</td>\\n      <td>2 ( Phobos &amp; Deimos )</td>\\n    </tr>\\n    <tr>\\n      <th>4</th>\\n      <td>Orbit Distance:</td>\\n      <td>227,943,824 km (1.38 AU)</td>\\n    </tr>\\n    <tr>\\n      <th>5</th>\\n      <td>Orbit Period:</td>\\n      <td>687 days (1.9 years)</td>\\n    </tr>\\n    <tr>\\n      <th>6</th>\\n      <td>Surface Temperature:</td>\\n      <td>-87 to -5 °C</td>\\n    </tr>\\n    <tr>\\n      <th>7</th>\\n      <td>First Record:</td>\\n      <td>2nd millennium BC</td>\\n    </tr>\\n    <tr>\\n      <th>8</th>\\n      <td>Recorded By:</td>\\n      <td>Egyptian astronomers</td>\\n    </tr>\\n  </tbody>\\n</table>'"
      ]
     },
     "execution_count": 16,
     "metadata": {},
     "output_type": "execute_result"
    }
   ],
   "source": [
    "# Convert the DataFrame to an HTML table\n",
    "mars_html_table = mars_profile_df.to_html()\n",
    "mars_html_table"
   ]
  },
  {
   "cell_type": "code",
   "execution_count": 17,
   "id": "6c8ec682",
   "metadata": {},
   "outputs": [],
   "source": [
    "# URL of Mars facts to be scraped\n",
    "url_4 = \"https://marshemispheres.com/\"\n",
    "\n",
    "# Create list of all hemisphere links to loop through\n",
    "hemispheres = [\"cerberus.html\", \"schiaparelli.html\", \"syrtis.html\", \"valles.html\"]\n",
    "\n",
    "# Create an empty list to store the hemisphere image URLs\n",
    "hemisphere_image_urls = []"
   ]
  },
  {
   "cell_type": "code",
   "execution_count": 18,
   "id": "99d789ac",
   "metadata": {},
   "outputs": [
    {
     "name": "stdout",
     "output_type": "stream",
     "text": [
      "Hemisphere: Cerberus Hemisphere Enhanced\n",
      "Image URL: https://marshemispheres.com/cerberus.htmlimages/f5e372a36edfa389625da6d0cc25d905_cerberus_enhanced.tif_full.jpg\n",
      "----------------------------------------\n",
      "Hemisphere: Schiaparelli Hemisphere Enhanced\n",
      "Image URL: https://marshemispheres.com/schiaparelli.htmlimages/3778f7b43bbbc89d6e3cfabb3613ba93_schiaparelli_enhanced.tif_full.jpg\n",
      "----------------------------------------\n",
      "Hemisphere: Syrtis Major Hemisphere Enhanced\n",
      "Image URL: https://marshemispheres.com/syrtis.htmlimages/555e6403a6ddd7ba16ddb0e471cadcf7_syrtis_major_enhanced.tif_full.jpg\n",
      "----------------------------------------\n",
      "Hemisphere: Valles Marineris Hemisphere Enhanced\n",
      "Image URL: https://marshemispheres.com/valles.htmlimages/b3c7c6c9138f57b4756be9b9c43e3a48_valles_marineris_enhanced.tif_full.jpg\n",
      "----------------------------------------\n"
     ]
    }
   ],
   "source": [
    "# Loop through the hemispheres to find the title and img_url\n",
    "\n",
    "for hemisphere in hemispheres:\n",
    "    loop_url = url_4 + hemisphere\n",
    "    browser.visit(loop_url)\n",
    "    \n",
    "    # Create variables for browser.html to use as a Beautiful Soup object and parse out the webpage\n",
    "    hemi = browser.html\n",
    "    hemi_soup = bs(hemi, \"html.parser\")\n",
    "    \n",
    "    # Use the soup object to find the results for the HTML element\n",
    "    hemi_results = hemi_soup.find(\"div\", class_=\"container\")\n",
    "    title = hemi_results.find(\"h2\").text\n",
    "    img = hemi_results.find(\"img\", class_=\"wide-image\")\n",
    "    img_url = loop_url + img[\"src\"]\n",
    "    \n",
    "    # Create a dictionary for the result\n",
    "    hemi_dict = {\"title\": title, \"img_url\": img_url}\n",
    "    \n",
    "    # Append the dictionary to the empty list.\n",
    "    hemisphere_image_urls.append(hemi_dict)\n",
    "    \n",
    "    # Print to confirm title and URL were grabbed for each hemisphere\n",
    "    print(f'''Hemisphere: {title}\n",
    "Image URL: {img_url}\n",
    "----------------------------------------''')"
   ]
  },
  {
   "cell_type": "code",
   "execution_count": 19,
   "id": "88aeaca7",
   "metadata": {},
   "outputs": [
    {
     "data": {
      "text/plain": [
       "[{'title': 'Cerberus Hemisphere Enhanced',\n",
       "  'img_url': 'https://marshemispheres.com/cerberus.htmlimages/f5e372a36edfa389625da6d0cc25d905_cerberus_enhanced.tif_full.jpg'},\n",
       " {'title': 'Schiaparelli Hemisphere Enhanced',\n",
       "  'img_url': 'https://marshemispheres.com/schiaparelli.htmlimages/3778f7b43bbbc89d6e3cfabb3613ba93_schiaparelli_enhanced.tif_full.jpg'},\n",
       " {'title': 'Syrtis Major Hemisphere Enhanced',\n",
       "  'img_url': 'https://marshemispheres.com/syrtis.htmlimages/555e6403a6ddd7ba16ddb0e471cadcf7_syrtis_major_enhanced.tif_full.jpg'},\n",
       " {'title': 'Valles Marineris Hemisphere Enhanced',\n",
       "  'img_url': 'https://marshemispheres.com/valles.htmlimages/b3c7c6c9138f57b4756be9b9c43e3a48_valles_marineris_enhanced.tif_full.jpg'}]"
      ]
     },
     "execution_count": 19,
     "metadata": {},
     "output_type": "execute_result"
    }
   ],
   "source": [
    "# Confirm list contains each hemisphere's dictionary\n",
    "hemisphere_image_urls"
   ]
  },
  {
   "cell_type": "code",
   "execution_count": 20,
   "id": "a6804dbd",
   "metadata": {},
   "outputs": [],
   "source": [
    "# Quit the browser session.\n",
    "browser.quit()"
   ]
  }
 ],
 "metadata": {
  "kernelspec": {
   "display_name": "PythonData",
   "language": "python",
   "name": "pythondata"
  },
  "language_info": {
   "codemirror_mode": {
    "name": "ipython",
    "version": 3
   },
   "file_extension": ".py",
   "mimetype": "text/x-python",
   "name": "python",
   "nbconvert_exporter": "python",
   "pygments_lexer": "ipython3",
   "version": "3.7.7"
  }
 },
 "nbformat": 4,
 "nbformat_minor": 5
}
