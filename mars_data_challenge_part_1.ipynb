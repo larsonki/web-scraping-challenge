{
 "cells": [
  {
   "cell_type": "code",
   "execution_count": 1,
   "id": "7911572f",
   "metadata": {},
   "outputs": [],
   "source": [
    "# Import dependencies\n",
    "from bs4 import BeautifulSoup as bs\n",
    "from splinter import Browser\n",
    "from webdriver_manager.chrome import ChromeDriverManager\n",
    "import requests\n",
    "import pymongo"
   ]
  },
  {
   "cell_type": "code",
   "execution_count": 2,
   "id": "1f0fcfa5",
   "metadata": {},
   "outputs": [],
   "source": [
    "# Setup Splinter\n",
    "executable_path = {'executable_path': ChromeDriverManager().install()}\n",
    "browser = Browser('chrome', **executable_path, headless=False)\n",
    "\n",
    "# URL of page to be scraped\n",
    "url = \"https://redplanetscience.com/\"\n",
    "browser.visit(url)"
   ]
  },
  {
   "cell_type": "code",
   "execution_count": 3,
   "id": "04a540e0",
   "metadata": {},
   "outputs": [
    {
     "data": {
      "text/plain": [
       "True"
      ]
     },
     "execution_count": 3,
     "metadata": {},
     "output_type": "execute_result"
    }
   ],
   "source": [
    "# Confirm the HTML element to isolate the title and preview is present within the browser.\n",
    "browser.is_element_present_by_css(\"div.list_text\", 1)"
   ]
  },
  {
   "cell_type": "code",
   "execution_count": 4,
   "id": "d5cbdf3c",
   "metadata": {},
   "outputs": [],
   "source": [
    "# Create variables for browser.html to use as a Beautiful Soup object and parse out the webpage\n",
    "mars = browser.html\n",
    "mars_soup = bs(mars, \"html.parser\")"
   ]
  },
  {
   "cell_type": "code",
   "execution_count": 5,
   "id": "8d300724",
   "metadata": {},
   "outputs": [],
   "source": [
    "# Use the soup object to find the results for the HTML element\n",
    "mars_results = mars_soup.find_all(\"div\", class_=\"list_text\")"
   ]
  },
  {
   "cell_type": "code",
   "execution_count": 6,
   "id": "a45999aa",
   "metadata": {},
   "outputs": [],
   "source": [
    "# Create an empty list to append the individual dictionaries to.\n",
    "mars_dict_list = []"
   ]
  },
  {
   "cell_type": "code",
   "execution_count": 7,
   "id": "423b132f",
   "metadata": {},
   "outputs": [],
   "source": [
    "# Connect to MongoDB and create a database to export results\n",
    "conn = 'mongodb://localhost:27017'\n",
    "client = pymongo.MongoClient(conn)\n",
    "\n",
    "# Declare the database\n",
    "db = client.mars_db\n",
    "\n",
    "# Declare the collection\n",
    "articles = db.articles"
   ]
  },
  {
   "cell_type": "code",
   "execution_count": 19,
   "id": "e176bb6a",
   "metadata": {},
   "outputs": [
    {
     "name": "stdout",
     "output_type": "stream",
     "text": [
      "Article Title: The Man Who Wanted to Fly on Mars\n",
      "Summary: The Mars Helicopter is riding to the Red Planet this summer with NASA's Perseverance rover. The helicopter's chief engineer, Bob Balaram, shares the saga of how it came into being.\n",
      "----------------------------------------\n",
      "Article Title: Mars Is Getting a New Robotic Meteorologist\n",
      "Summary: Sensors on NASA's Perseverance will help prepare for future human exploration by taking weather measurements and studying dust particles.\n",
      "----------------------------------------\n",
      "Article Title: 5 Hidden Gems Are Riding Aboard NASA's Perseverance Rover\n",
      "Summary: The symbols, mottos, and small objects added to the agency's newest Mars rover serve a variety of purposes, from functional to decorative.\n",
      "----------------------------------------\n",
      "Article Title: Mars 2020 Unwrapped and Ready for More Testing\n",
      "Summary: In time-lapse video, bunny-suited engineers remove the inner layer of protective foil on NASA's Mars 2020 rover after it was relocated for testing.\n",
      "----------------------------------------\n",
      "Article Title: NASA's Curiosity Rover Finds an Ancient Oasis on Mars\n",
      "Summary: New evidence suggests salty, shallow ponds once dotted a Martian crater — a sign of the planet's drying climate.\n",
      "----------------------------------------\n",
      "Article Title: A Martian Roundtrip: NASA's Perseverance Rover Sample Tubes\n",
      "Summary: Marvels of engineering, the rover's sample tubes must be tough enough to safely bring Red Planet samples on the long journey back to Earth in immaculate condition. \n",
      "----------------------------------------\n",
      "Article Title: NASA's Perseverance Rover Will Look at Mars Through These 'Eyes'\n",
      "Summary: A pair of zoomable cameras will help scientists and rover drivers with high-resolution color images.\n",
      "----------------------------------------\n",
      "Article Title: NASA's Curiosity Keeps Rolling As Team Operates Rover From Home\n",
      "Summary: The team has learned to meet new challenges as they work remotely on the Mars mission.\n",
      "----------------------------------------\n",
      "Article Title: NASA Invites Public to Share Excitement of Mars 2020 Perseverance Rover Launch\n",
      "Summary: There are lots of ways to participate in the historic event, which is targeted for July 30.\n",
      "----------------------------------------\n",
      "Article Title: A Year of Surprising Science From NASA's InSight Mars Mission\n",
      "Summary: A batch of new papers summarizes the lander's findings above and below the surface of the Red Planet.\n",
      "----------------------------------------\n",
      "Article Title: NASA's Perseverance Rover Mission Getting in Shape for Launch\n",
      "Summary: Stacking spacecraft components on top of each other is one of the final assembly steps before a mission launches to the Red Planet. \n",
      "----------------------------------------\n",
      "Article Title: Virginia Middle School Student Earns Honor of Naming NASA's Next Mars Rover\n",
      "Summary: NASA chose a seventh-grader from Virginia as winner of the agency's \"Name the Rover\" essay contest. Alexander Mather's entry for \"Perseverance\" was voted tops among 28,000 entries. \n",
      "----------------------------------------\n",
      "Article Title: Air Deliveries Bring NASA's Perseverance Mars Rover Closer to Launch\n",
      "Summary: A NASA Wallops Flight Facility cargo plane transported more than two tons of equipment — including the rover's sample collection tubes — to Florida for this summer's liftoff.\n",
      "----------------------------------------\n",
      "Article Title: NASA Updates Mars 2020 Mission Environmental Review\n",
      "Summary: NASA and the Department of Energy have completed a more detailed risk analysis for the Mars 2020 rover launch from Florida.\n",
      "----------------------------------------\n",
      "Article Title: NASA to Hold Mars 2020 Perseverance Rover Launch Briefing\n",
      "Summary: Learn more about the agency's next Red Planet mission during a live event on June 17.\n",
      "----------------------------------------\n"
     ]
    }
   ],
   "source": [
    "# Loop through the mars_results and find the title and preview, convert to text, create a dictionary for the\n",
    "# result and append the dictionary to the empty list.\n",
    "for result in mars_results:\n",
    "    title = result.find(\"div\", class_=\"content_title\").text\n",
    "    preview = result.find(\"div\", class_=\"article_teaser_body\").text\n",
    "    mars_dict = {\"title\": title, \"preview\": preview}\n",
    "    mars_dict_list.append(mars_dict)\n",
    "    articles.insert_one(mars_dict)\n",
    "    print(f'''Article Title: {title}\n",
    "Summary: {preview}\n",
    "----------------------------------------''')"
   ]
  },
  {
   "cell_type": "code",
   "execution_count": 9,
   "id": "cb5603e0",
   "metadata": {},
   "outputs": [],
   "source": [
    "# Quit the browser session.\n",
    "browser.quit()"
   ]
  },
  {
   "cell_type": "code",
   "execution_count": 12,
   "id": "44faa427",
   "metadata": {},
   "outputs": [
    {
     "data": {
      "text/plain": [
       "[{'title': 'The Man Who Wanted to Fly on Mars',\n",
       "  'preview': \"The Mars Helicopter is riding to the Red Planet this summer with NASA's Perseverance rover. The helicopter's chief engineer, Bob Balaram, shares the saga of how it came into being.\",\n",
       "  '_id': ObjectId('631f752fd91283c0ff8ac824')},\n",
       " {'title': 'Mars Is Getting a New Robotic Meteorologist',\n",
       "  'preview': \"Sensors on NASA's Perseverance will help prepare for future human exploration by taking weather measurements and studying dust particles.\",\n",
       "  '_id': ObjectId('631f7530d91283c0ff8ac825')},\n",
       " {'title': \"5 Hidden Gems Are Riding Aboard NASA's Perseverance Rover\",\n",
       "  'preview': \"The symbols, mottos, and small objects added to the agency's newest Mars rover serve a variety of purposes, from functional to decorative.\",\n",
       "  '_id': ObjectId('631f7530d91283c0ff8ac826')},\n",
       " {'title': 'Mars 2020 Unwrapped and Ready for More Testing',\n",
       "  'preview': \"In time-lapse video, bunny-suited engineers remove the inner layer of protective foil on NASA's Mars 2020 rover after it was relocated for testing.\",\n",
       "  '_id': ObjectId('631f7530d91283c0ff8ac827')},\n",
       " {'title': \"NASA's Curiosity Rover Finds an Ancient Oasis on Mars\",\n",
       "  'preview': \"New evidence suggests salty, shallow ponds once dotted a Martian crater — a sign of the planet's drying climate.\",\n",
       "  '_id': ObjectId('631f7530d91283c0ff8ac828')},\n",
       " {'title': \"A Martian Roundtrip: NASA's Perseverance Rover Sample Tubes\",\n",
       "  'preview': \"Marvels of engineering, the rover's sample tubes must be tough enough to safely bring Red Planet samples on the long journey back to Earth in immaculate condition. \",\n",
       "  '_id': ObjectId('631f7530d91283c0ff8ac829')},\n",
       " {'title': \"NASA's Perseverance Rover Will Look at Mars Through These 'Eyes'\",\n",
       "  'preview': 'A pair of zoomable cameras will help scientists and rover drivers with high-resolution color images.',\n",
       "  '_id': ObjectId('631f7530d91283c0ff8ac82a')},\n",
       " {'title': \"NASA's Curiosity Keeps Rolling As Team Operates Rover From Home\",\n",
       "  'preview': 'The team has learned to meet new challenges as they work remotely on the Mars mission.',\n",
       "  '_id': ObjectId('631f7530d91283c0ff8ac82b')},\n",
       " {'title': 'NASA Invites Public to Share Excitement of Mars 2020 Perseverance Rover Launch',\n",
       "  'preview': 'There are lots of ways to participate in the historic event, which is targeted for July 30.',\n",
       "  '_id': ObjectId('631f7530d91283c0ff8ac82c')},\n",
       " {'title': \"A Year of Surprising Science From NASA's InSight Mars Mission\",\n",
       "  'preview': \"A batch of new papers summarizes the lander's findings above and below the surface of the Red Planet.\",\n",
       "  '_id': ObjectId('631f7530d91283c0ff8ac82d')},\n",
       " {'title': \"NASA's Perseverance Rover Mission Getting in Shape for Launch\",\n",
       "  'preview': 'Stacking spacecraft components on top of each other is one of the final assembly steps before a mission launches to the Red Planet. ',\n",
       "  '_id': ObjectId('631f7530d91283c0ff8ac82e')},\n",
       " {'title': \"Virginia Middle School Student Earns Honor of Naming NASA's Next Mars Rover\",\n",
       "  'preview': 'NASA chose a seventh-grader from Virginia as winner of the agency\\'s \"Name the Rover\" essay contest. Alexander Mather\\'s entry for \"Perseverance\" was voted tops among 28,000 entries. ',\n",
       "  '_id': ObjectId('631f7530d91283c0ff8ac82f')},\n",
       " {'title': \"Air Deliveries Bring NASA's Perseverance Mars Rover Closer to Launch\",\n",
       "  'preview': \"A NASA Wallops Flight Facility cargo plane transported more than two tons of equipment — including the rover's sample collection tubes — to Florida for this summer's liftoff.\",\n",
       "  '_id': ObjectId('631f7530d91283c0ff8ac830')},\n",
       " {'title': 'NASA Updates Mars 2020 Mission Environmental Review',\n",
       "  'preview': 'NASA and the Department of Energy have completed a more detailed risk analysis for the Mars 2020 rover launch from Florida.',\n",
       "  '_id': ObjectId('631f7530d91283c0ff8ac831')},\n",
       " {'title': 'NASA to Hold Mars 2020 Perseverance Rover Launch Briefing',\n",
       "  'preview': \"Learn more about the agency's next Red Planet mission during a live event on June 17.\",\n",
       "  '_id': ObjectId('631f7530d91283c0ff8ac832')}]"
      ]
     },
     "execution_count": 12,
     "metadata": {},
     "output_type": "execute_result"
    }
   ],
   "source": [
    "# View the data in the list of dictionaries\n",
    "mars_dict_list"
   ]
  },
  {
   "cell_type": "code",
   "execution_count": null,
   "id": "ca4b1163",
   "metadata": {},
   "outputs": [],
   "source": []
  }
 ],
 "metadata": {
  "kernelspec": {
   "display_name": "PythonData",
   "language": "python",
   "name": "pythondata"
  },
  "language_info": {
   "codemirror_mode": {
    "name": "ipython",
    "version": 3
   },
   "file_extension": ".py",
   "mimetype": "text/x-python",
   "name": "python",
   "nbconvert_exporter": "python",
   "pygments_lexer": "ipython3",
   "version": "3.7.7"
  }
 },
 "nbformat": 4,
 "nbformat_minor": 5
}
